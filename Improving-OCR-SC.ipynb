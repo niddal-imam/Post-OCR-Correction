{
 "cells": [
  {
   "cell_type": "code",
   "execution_count": 1,
   "metadata": {},
   "outputs": [
    {
     "name": "stdout",
     "output_type": "stream",
     "text": [
      "Calculated!{\"crwup\": 1.0, \"tedupL\": 0.0, \"tedL\": 0.8028711484593837, \"totalWords\": 39, \"crwN\": 33.0, \"crwupN\": 39.0, \"ted\": 6.0, \"tedup\": 0.0, \"detWords\": 39, \"crw\": 0.8461538461538461}"
     ]
    }
   ],
   "source": [
    "#Att-non\n",
    "!python ED.py -g=/home/niddal/Desktop/PhD_projects/Projects/Text_classification/Adversarial_attack/Arabic-text-recognition-master/crnn_test/gt/gt.txt \\\n",
    "-s=/home/niddal/Desktop/PhD_projects/Projects/Text_classification/Adversarial_attack/Arabic-text-recognition-master/crnn_test/gt/submit.txt \\\n",
    "-o=/home/niddal/Desktop/PhD_projects/Projects/Text_classification/Adversarial_attack/Arabic-text-recognition-master/crnn_test/gt/Output_Att-non/"
   ]
  },
  {
   "cell_type": "code",
   "execution_count": 1,
   "metadata": {},
   "outputs": [
    {
     "name": "stdout",
     "output_type": "stream",
     "text": [
      "Calculated!{\"crwup\": 0.8461538461538461, \"tedupL\": 0.8134920634920635, \"tedL\": 1.6163632119514473, \"totalWords\": 39, \"crwN\": 28.0, \"crwupN\": 33.0, \"ted\": 12.0, \"tedup\": 6.0, \"detWords\": 39, \"crw\": 0.717948717948718}"
     ]
    }
   ],
   "source": [
    "#Att-1Char\n",
    "!python ED.py -g=/home/niddal/Desktop/PhD_projects/Projects/Text_classification/Adversarial_attack/Arabic-text-recognition-master/crnn_test/gt/gt.txt \\\n",
    "-s=/home/niddal/Desktop/PhD_projects/Projects/Text_classification/Adversarial_attack/Arabic-text-recognition-master/crnn_test/gt/submit.txt \\\n",
    "-o=/home/niddal/Desktop/PhD_projects/Projects/Text_classification/Adversarial_attack/Arabic-text-recognition-master/crnn_test/gt/Output_Att-1/"
   ]
  },
  {
   "cell_type": "code",
   "execution_count": null,
   "metadata": {},
   "outputs": [],
   "source": [
    "#Att-1Char-SC\n",
    "!python ED.py -g=/home/niddal/Desktop/PhD_projects/Projects/Text_classification/Adversarial_attack/Arabic-text-recognition-master/crnn_test/gt/gt.txt \\\n",
    "-s=/home/niddal/Desktop/PhD_projects/Projects/Text_classification/Adversarial_attack/Arabic-text-recognition-master/crnn_test/gt/submit.txt \\\n",
    "-o=/home/niddal/Desktop/PhD_projects/Projects/Text_classification/Adversarial_attack/Arabic-text-recognition-master/crnn_test/gt/Output_Att-1-SC/"
   ]
  },
  {
   "cell_type": "code",
   "execution_count": 4,
   "metadata": {},
   "outputs": [
    {
     "name": "stdout",
     "output_type": "stream",
     "text": [
      "Calculated!{\"crwup\": 0.6153846153846154, \"tedupL\": 2.786601307189543, \"tedL\": 3.589472455648926, \"totalWords\": 39, \"crwN\": 21.0, \"crwupN\": 24.0, \"ted\": 28.0, \"tedup\": 22.0, \"detWords\": 39, \"crw\": 0.5384615384615384}"
     ]
    }
   ],
   "source": [
    "#Att-2Char\n",
    "!python ED.py -g=/home/niddal/Desktop/PhD_projects/Projects/Text_classification/Adversarial_attack/Arabic-text-recognition-master/crnn_test/gt/gt.txt \\\n",
    "-s=/home/niddal/Desktop/PhD_projects/Projects/Text_classification/Adversarial_attack/Arabic-text-recognition-master/crnn_test/gt/submit.txt \\\n",
    "-o=/home/niddal/Desktop/PhD_projects/Projects/Text_classification/Adversarial_attack/Arabic-text-recognition-master/crnn_test/gt/Output_Att-2/"
   ]
  },
  {
   "cell_type": "code",
   "execution_count": 1,
   "metadata": {},
   "outputs": [
    {
     "name": "stdout",
     "output_type": "stream",
     "text": [
      "Calculated!{\"crwup\": 0.8205128205128205, \"tedupL\": 1.839285714285714, \"tedL\": 2.6421568627450975, \"totalWords\": 39, \"crwN\": 27.0, \"crwupN\": 32.0, \"ted\": 19.0, \"tedup\": 13.0, \"detWords\": 39, \"crw\": 0.6923076923076923}"
     ]
    }
   ],
   "source": [
    "#Att-2Char-SC\n",
    "!python ED.py -g=/home/niddal/Desktop/PhD_projects/Projects/Text_classification/Adversarial_attack/Arabic-text-recognition-master/crnn_test/gt/gt.txt \\\n",
    "-s=/home/niddal/Desktop/PhD_projects/Projects/Text_classification/Adversarial_attack/Arabic-text-recognition-master/crnn_test/gt/submit.txt \\\n",
    "-o=/home/niddal/Desktop/PhD_projects/Projects/Text_classification/Adversarial_attack/Arabic-text-recognition-master/crnn_test/gt/Output_Att-2-SC/"
   ]
  },
  {
   "cell_type": "code",
   "execution_count": 1,
   "metadata": {},
   "outputs": [
    {
     "name": "stdout",
     "output_type": "stream",
     "text": [
      "Calculated!{\"crwup\": 1.0, \"tedupL\": 0.0, \"tedL\": 0.0, \"totalWords\": 39, \"crwN\": 39.0, \"crwupN\": 39.0, \"ted\": 0.0, \"tedup\": 0.0, \"detWords\": 39, \"crw\": 1.0}"
     ]
    }
   ],
   "source": [
    "#Att-S-nonAdv\n",
    "!python ED.py -g=/home/niddal/Desktop/PhD_projects/Projects/Text_classification/Adversarial_attack/Arabic-text-recognition-master/crnn_test/gt/gt.txt \\\n",
    "-s=/home/niddal/Desktop/PhD_projects/Projects/Text_classification/Adversarial_attack/Arabic-text-recognition-master/crnn_test/gt/submit.txt \\\n",
    "-o=/home/niddal/Desktop/PhD_projects/Projects/Text_classification/Adversarial_attack/Arabic-text-recognition-master/crnn_test/gt/Output-nonAdv/"
   ]
  },
  {
   "cell_type": "code",
   "execution_count": 2,
   "metadata": {},
   "outputs": [
    {
     "name": "stdout",
     "output_type": "stream",
     "text": [
      "Calculated!{\"crwup\": 0.6923076923076923, \"tedupL\": 1.6523809523809523, \"tedL\": 2.477777777777778, \"totalWords\": 39, \"crwN\": 20.0, \"crwupN\": 27.0, \"ted\": 19.0, \"tedup\": 12.0, \"detWords\": 39, \"crw\": 0.5128205128205128}"
     ]
    }
   ],
   "source": [
    "#Att-S-1Char\n",
    "!python ED.py -g=/home/niddal/Desktop/PhD_projects/Projects/Text_classification/Adversarial_attack/Arabic-text-recognition-master/crnn_test/gt/gt.txt \\\n",
    "-s=/home/niddal/Desktop/PhD_projects/Projects/Text_classification/Adversarial_attack/Arabic-text-recognition-master/crnn_test/gt/submit.txt \\\n",
    "-o=/home/niddal/Desktop/PhD_projects/Projects/Text_classification/Adversarial_attack/Arabic-text-recognition-master/crnn_test/gt/Output_Att-S-1/"
   ]
  },
  {
   "cell_type": "code",
   "execution_count": 4,
   "metadata": {},
   "outputs": [
    {
     "name": "stdout",
     "output_type": "stream",
     "text": [
      "Calculated!{\"crwup\": 0.9230769230769231, \"tedupL\": 0.7916666666666666, \"tedL\": 1.3028711484593838, \"totalWords\": 39, \"crwN\": 32.0, \"crwupN\": 36.0, \"ted\": 9.0, \"tedup\": 5.0, \"detWords\": 39, \"crw\": 0.8205128205128205}"
     ]
    }
   ],
   "source": [
    "#Att-S-1Char-SC\n",
    "!python ED.py -g=/home/niddal/Desktop/PhD_projects/Projects/Text_classification/Adversarial_attack/Arabic-text-recognition-master/crnn_test/gt/gt.txt \\\n",
    "-s=/home/niddal/Desktop/PhD_projects/Projects/Text_classification/Adversarial_attack/Arabic-text-recognition-master/crnn_test/gt/submit.txt \\\n",
    "-o=/home/niddal/Desktop/PhD_projects/Projects/Text_classification/Adversarial_attack/Arabic-text-recognition-master/crnn_test/gt/Output_Att-S-1-SC/"
   ]
  },
  {
   "cell_type": "code",
   "execution_count": 3,
   "metadata": {},
   "outputs": [
    {
     "name": "stdout",
     "output_type": "stream",
     "text": [
      "Calculated!{\"crwup\": 0.358974358974359, \"tedupL\": 5.230252100840336, \"tedL\": 5.860807656395891, \"totalWords\": 39, \"crwN\": 10.0, \"crwupN\": 14.0, \"ted\": 46.0, \"tedup\": 40.0, \"detWords\": 39, \"crw\": 0.2564102564102564}"
     ]
    }
   ],
   "source": [
    "#Att-S-2Char\n",
    "!python ED.py -g=/home/niddal/Desktop/PhD_projects/Projects/Text_classification/Adversarial_attack/Arabic-text-recognition-master/crnn_test/gt/gt.txt \\\n",
    "-s=/home/niddal/Desktop/PhD_projects/Projects/Text_classification/Adversarial_attack/Arabic-text-recognition-master/crnn_test/gt/submit.txt \\\n",
    "-o=/home/niddal/Desktop/PhD_projects/Projects/Text_classification/Adversarial_attack/Arabic-text-recognition-master/crnn_test/gt/Output_Att-S-2/"
   ]
  },
  {
   "cell_type": "code",
   "execution_count": 2,
   "metadata": {},
   "outputs": [
    {
     "name": "stdout",
     "output_type": "stream",
     "text": [
      "Calculated!{\"crwup\": 0.8205128205128205, \"tedupL\": 1.8400793650793652, \"tedL\": 2.476283846872082, \"totalWords\": 39, \"crwN\": 28.0, \"crwupN\": 32.0, \"ted\": 18.0, \"tedup\": 13.0, \"detWords\": 39, \"crw\": 0.717948717948718}"
     ]
    }
   ],
   "source": [
    "#Att-S-2Char-SC\n",
    "!python ED.py -g=/home/niddal/Desktop/PhD_projects/Projects/Text_classification/Adversarial_attack/Arabic-text-recognition-master/crnn_test/gt/gt.txt \\\n",
    "-s=/home/niddal/Desktop/PhD_projects/Projects/Text_classification/Adversarial_attack/Arabic-text-recognition-master/crnn_test/gt/submit.txt \\\n",
    "-o=/home/niddal/Desktop/PhD_projects/Projects/Text_classification/Adversarial_attack/Arabic-text-recognition-master/crnn_test/gt/Output_Att-S-2-SC/"
   ]
  },
  {
   "cell_type": "code",
   "execution_count": 5,
   "metadata": {},
   "outputs": [
    {
     "name": "stdout",
     "output_type": "stream",
     "text": [
      "Calculated!{\"crwup\": 0.3333333333333333, \"tedupL\": 6.192156862745097, \"tedL\": 7.876377217553688, \"totalWords\": 39, \"crwN\": 6.0, \"crwupN\": 13.0, \"ted\": 61.0, \"tedup\": 46.0, \"detWords\": 39, \"crw\": 0.15384615384615385}"
     ]
    }
   ],
   "source": [
    "#CTC-2Char\n",
    "!python ED.py -g=/home/niddal/Desktop/PhD_projects/Projects/Text_classification/Adversarial_attack/Arabic-text-recognition-master/crnn_test/gt/gt.txt \\\n",
    "-s=/home/niddal/Desktop/PhD_projects/Projects/Text_classification/Adversarial_attack/Arabic-text-recognition-master/crnn_test/gt/submit.txt \\\n",
    "-o=/home/niddal/Desktop/PhD_projects/Projects/Text_classification/Adversarial_attack/Arabic-text-recognition-master/crnn_test/gt/Output-ctc/"
   ]
  },
  {
   "cell_type": "code",
   "execution_count": 3,
   "metadata": {},
   "outputs": [
    {
     "name": "stdout",
     "output_type": "stream",
     "text": [
      "Calculated!{\"crwup\": 0.717948717948718, \"tedupL\": 3.6469187675070027, \"tedL\": 3.8485994397759105, \"totalWords\": 39, \"crwN\": 27.0, \"crwupN\": 28.0, \"ted\": 25.0, \"tedup\": 23.0, \"detWords\": 39, \"crw\": 0.6923076923076923}"
     ]
    }
   ],
   "source": [
    "#CTC-2Char-SC\n",
    "!python ED.py -g=/home/niddal/Desktop/PhD_projects/Projects/Text_classification/Adversarial_attack/Arabic-text-recognition-master/crnn_test/gt/gt.txt \\\n",
    "-s=/home/niddal/Desktop/PhD_projects/Projects/Text_classification/Adversarial_attack/Arabic-text-recognition-master/crnn_test/gt/submit.txt \\\n",
    "-o=/home/niddal/Desktop/PhD_projects/Projects/Text_classification/Adversarial_attack/Arabic-text-recognition-master/crnn_test/gt/Output-ctc-Adv2-SC/"
   ]
  },
  {
   "cell_type": "code",
   "execution_count": 5,
   "metadata": {},
   "outputs": [
    {
     "name": "stdout",
     "output_type": "stream",
     "text": [
      "Calculated!{\"crwup\": 0.6666666666666666, \"tedupL\": 1.6773809523809524, \"tedL\": 4.229458450046686, \"totalWords\": 39, \"crwN\": 8.0, \"crwupN\": 26.0, \"ted\": 33.0, \"tedup\": 13.0, \"detWords\": 39, \"crw\": 0.20512820512820512}"
     ]
    }
   ],
   "source": [
    "#CTC-1Char\n",
    "!python ED.py -g=/home/niddal/Desktop/PhD_projects/Projects/Text_classification/Adversarial_attack/Arabic-text-recognition-master/crnn_test/gt/gt.txt \\\n",
    "-s=/home/niddal/Desktop/PhD_projects/Projects/Text_classification/Adversarial_attack/Arabic-text-recognition-master/crnn_test/gt/submit.txt \\\n",
    "-o=/home/niddal/Desktop/PhD_projects/Projects/Text_classification/Adversarial_attack/Arabic-text-recognition-master/crnn_test/gt/Output-ctc-1/"
   ]
  },
  {
   "cell_type": "code",
   "execution_count": 2,
   "metadata": {},
   "outputs": [
    {
     "name": "stdout",
     "output_type": "stream",
     "text": [
      "Calculated!{\"crwup\": 0.7948717948717948, \"tedupL\": 2.069047619047619, \"tedL\": 2.562394957983193, \"totalWords\": 39, \"crwN\": 28.0, \"crwupN\": 31.0, \"ted\": 17.0, \"tedup\": 13.0, \"detWords\": 39, \"crw\": 0.717948717948718}"
     ]
    }
   ],
   "source": [
    "#CTC-1Char-SC\n",
    "!python ED.py -g=/home/niddal/Desktop/PhD_projects/Projects/Text_classification/Adversarial_attack/Arabic-text-recognition-master/crnn_test/gt/gt.txt \\\n",
    "-s=/home/niddal/Desktop/PhD_projects/Projects/Text_classification/Adversarial_attack/Arabic-text-recognition-master/crnn_test/gt/submit.txt \\\n",
    "-o=/home/niddal/Desktop/PhD_projects/Projects/Text_classification/Adversarial_attack/Arabic-text-recognition-master/crnn_test/gt/Output-ctc-Adv2-SC/"
   ]
  },
  {
   "cell_type": "code",
   "execution_count": 1,
   "metadata": {},
   "outputs": [
    {
     "name": "stdout",
     "output_type": "stream",
     "text": [
      "Calculated!{\"crwup\": 1.0, \"tedupL\": 0.0, \"tedL\": 0.0, \"totalWords\": 39, \"crwN\": 39.0, \"crwupN\": 39.0, \"ted\": 0.0, \"tedup\": 0.0, \"detWords\": 39, \"crw\": 1.0}"
     ]
    }
   ],
   "source": [
    "#CTC\n",
    "!python ED.py -g=/home/niddal/Desktop/PhD_projects/Projects/Text_classification/Adversarial_attack/Arabic-text-recognition-master/crnn_test/gt/gt.txt \\\n",
    "-s=/home/niddal/Desktop/PhD_projects/Projects/Text_classification/Adversarial_attack/Arabic-text-recognition-master/crnn_test/gt/submit.txt \\\n",
    "-o=/home/niddal/Desktop/PhD_projects/Projects/Text_classification/Adversarial_attack/Arabic-text-recognition-master/crnn_test/gt/Output-ctc1/"
   ]
  },
  {
   "cell_type": "code",
   "execution_count": 1,
   "metadata": {},
   "outputs": [
    {
     "name": "stdout",
     "output_type": "stream",
     "text": [
      "Calculated!{\"crwup\": 1.0, \"tedupL\": 0.0, \"tedL\": 0.636204481792717, \"totalWords\": 39, \"crwN\": 34.0, \"crwupN\": 39.0, \"ted\": 5.0, \"tedup\": 0.0, \"detWords\": 39, \"crw\": 0.8717948717948718}"
     ]
    }
   ],
   "source": [
    "#Rosetta-non\n",
    "!python ED.py -g=/home/niddal/Desktop/PhD_projects/Projects/Text_classification/Adversarial_attack/Arabic-text-recognition-master/crnn_test/gt/gt.txt \\\n",
    "-s=/home/niddal/Desktop/PhD_projects/Projects/Text_classification/Adversarial_attack/Arabic-text-recognition-master/crnn_test/gt/submit.txt \\\n",
    "-o=/home/niddal/Desktop/PhD_projects/Projects/Text_classification/Adversarial_attack/Arabic-text-recognition-master/crnn_test/gt/Output-Rosetta-non/"
   ]
  },
  {
   "cell_type": "code",
   "execution_count": 2,
   "metadata": {},
   "outputs": [
    {
     "name": "stdout",
     "output_type": "stream",
     "text": [
      "Calculated!{\"crwup\": 0.8461538461538461, \"tedupL\": 0.7857142857142858, \"tedL\": 1.5885854341736694, \"totalWords\": 39, \"crwN\": 28.0, \"crwupN\": 33.0, \"ted\": 12.0, \"tedup\": 6.0, \"detWords\": 39, \"crw\": 0.717948717948718}"
     ]
    }
   ],
   "source": [
    "#Rosetta-Adv1\n",
    "!python ED.py -g=/home/niddal/Desktop/PhD_projects/Projects/Text_classification/Adversarial_attack/Arabic-text-recognition-master/crnn_test/gt/gt.txt \\\n",
    "-s=/home/niddal/Desktop/PhD_projects/Projects/Text_classification/Adversarial_attack/Arabic-text-recognition-master/crnn_test/gt/submit.txt \\\n",
    "-o=/home/niddal/Desktop/PhD_projects/Projects/Text_classification/Adversarial_attack/Arabic-text-recognition-master/crnn_test/gt/Output-Rosetta-Adv1/"
   ]
  },
  {
   "cell_type": "code",
   "execution_count": 3,
   "metadata": {},
   "outputs": [
    {
     "name": "stdout",
     "output_type": "stream",
     "text": [
      "Calculated!{\"crwup\": 0.9487179487179487, \"tedupL\": 0.5833333333333333, \"tedL\": 1.386204481792717, \"totalWords\": 39, \"crwN\": 32.0, \"crwupN\": 37.0, \"ted\": 10.0, \"tedup\": 4.0, \"detWords\": 39, \"crw\": 0.8205128205128205}"
     ]
    }
   ],
   "source": [
    "#Rosetta-Adv1-SC\n",
    "!python ED.py -g=/home/niddal/Desktop/PhD_projects/Projects/Text_classification/Adversarial_attack/Arabic-text-recognition-master/crnn_test/gt/gt.txt \\\n",
    "-s=/home/niddal/Desktop/PhD_projects/Projects/Text_classification/Adversarial_attack/Arabic-text-recognition-master/crnn_test/gt/submit.txt \\\n",
    "-o=/home/niddal/Desktop/PhD_projects/Projects/Text_classification/Adversarial_attack/Arabic-text-recognition-master/crnn_test/gt/Output-Rosetta-Adv1-SC/"
   ]
  },
  {
   "cell_type": "code",
   "execution_count": 3,
   "metadata": {},
   "outputs": [
    {
     "name": "stdout",
     "output_type": "stream",
     "text": [
      "Calculated!{\"crwup\": 0.5128205128205128, \"tedupL\": 3.264775910364145, \"tedL\": 4.067647058823529, \"totalWords\": 39, \"crwN\": 18.0, \"crwupN\": 20.0, \"ted\": 31.0, \"tedup\": 25.0, \"detWords\": 39, \"crw\": 0.46153846153846156}"
     ]
    }
   ],
   "source": [
    "#Rosetta-Adv2\n",
    "!python ED.py -g=/home/niddal/Desktop/PhD_projects/Projects/Text_classification/Adversarial_attack/Arabic-text-recognition-master/crnn_test/gt/gt.txt \\\n",
    "-s=/home/niddal/Desktop/PhD_projects/Projects/Text_classification/Adversarial_attack/Arabic-text-recognition-master/crnn_test/gt/submit.txt \\\n",
    "-o=/home/niddal/Desktop/PhD_projects/Projects/Text_classification/Adversarial_attack/Arabic-text-recognition-master/crnn_test/gt/Output-Rosetta-Adv2/"
   ]
  },
  {
   "cell_type": "code",
   "execution_count": 1,
   "metadata": {},
   "outputs": [
    {
     "name": "stdout",
     "output_type": "stream",
     "text": [
      "Calculated!{\"crwup\": 0.8205128205128205, \"tedupL\": 1.9666666666666666, \"tedL\": 2.76953781512605, \"totalWords\": 39, \"crwN\": 27.0, \"crwupN\": 32.0, \"ted\": 20.0, \"tedup\": 14.0, \"detWords\": 39, \"crw\": 0.6923076923076923}"
     ]
    }
   ],
   "source": [
    "#Rosetta-Adv2-SC\n",
    "!python ED.py -g=/home/niddal/Desktop/PhD_projects/Projects/Text_classification/Adversarial_attack/Arabic-text-recognition-master/crnn_test/gt/gt.txt \\\n",
    "-s=/home/niddal/Desktop/PhD_projects/Projects/Text_classification/Adversarial_attack/Arabic-text-recognition-master/crnn_test/gt/submit.txt \\\n",
    "-o=/home/niddal/Desktop/PhD_projects/Projects/Text_classification/Adversarial_attack/Arabic-text-recognition-master/crnn_test/gt/Output-Rosetta-Adv2-SC/"
   ]
  },
  {
   "cell_type": "code",
   "execution_count": null,
   "metadata": {},
   "outputs": [],
   "source": []
  }
 ],
 "metadata": {
  "kernelspec": {
   "display_name": "Python 2",
   "language": "python",
   "name": "python2"
  },
  "language_info": {
   "codemirror_mode": {
    "name": "ipython",
    "version": 2
   },
   "file_extension": ".py",
   "mimetype": "text/x-python",
   "name": "python",
   "nbconvert_exporter": "python",
   "pygments_lexer": "ipython2",
   "version": "2.7.17"
  }
 },
 "nbformat": 4,
 "nbformat_minor": 4
}
