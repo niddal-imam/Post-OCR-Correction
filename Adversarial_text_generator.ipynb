{
 "cells": [
  {
   "cell_type": "markdown",
   "metadata": {},
   "source": [
    "# Code for manipulating more than one character "
   ]
  },
  {
   "cell_type": "code",
   "execution_count": null,
   "metadata": {},
   "outputs": [],
   "source": [
    "import csv\n",
    "\n",
    "# Files names\n",
    "input_file_name = 'A.csv'\n",
    "dictionary_file_name = 'B.csv'\n",
    "output_file_name = 'C.csv'\n",
    "\n",
    "# Put number of characters to be changed\n",
    "chars_to_replace_count = 2\n",
    "\n",
    "# letters mapping dictionary\n",
    "letters_map = {'a': '@', 's': '$', 'i': '!', 'l': '1', 'o': '0'}\n",
    "\n",
    "# Variables holding the lists of words\n",
    "input_list, dictionary_list, output_list = [], [], []\n",
    "\n",
    "# Read input file and save the list into input_list variable\n",
    "with open(input_file_name, 'r', encoding='utf-8-sig') as input_file:\n",
    "    try:\n",
    "        input_list = [row[0] for row in csv.reader(input_file)]\n",
    "    except:\n",
    "        print('Error opening input file')\n",
    "\n",
    "# Read input file and save the list into input_list variable\n",
    "with open(dictionary_file_name, 'r', encoding='utf-8-sig') as dictionary_file:\n",
    "    try:\n",
    "        dictionary_list = [row[0] for row in csv.reader(dictionary_file)]\n",
    "    except:\n",
    "        print('Error opening dictionary file')\n",
    "\n",
    "for input_word in input_list:\n",
    "    if input_word in dictionary_list:\n",
    "        encoded_word = ''\n",
    "        matching_counter = 0\n",
    "        for letter in input_word:\n",
    "            if letter in list(letters_map.keys()) and matching_counter < chars_to_replace_count:\n",
    "                encoded_word += letters_map.get(letter)\n",
    "                matching_counter += 1\n",
    "            else:\n",
    "                encoded_word += letter\n",
    "        output_list.append(encoded_word)\n",
    "\n",
    "with open(output_file_name, 'w') as output_file:\n",
    "    output_writer = csv.writer(output_file)\n",
    "    for word in output_list:\n",
    "        output_writer.writerow([word])\n",
    "\n",
    "#print(input_list, dictionary_list)\n",
    "#print(output_list)"
   ]
  }
 ],
 "metadata": {
  "kernelspec": {
   "display_name": "Python 3",
   "language": "python",
   "name": "python3"
  },
  "language_info": {
   "codemirror_mode": {
    "name": "ipython",
    "version": 3
   },
   "file_extension": ".py",
   "mimetype": "text/x-python",
   "name": "python",
   "nbconvert_exporter": "python",
   "pygments_lexer": "ipython3",
   "version": "3.7.3"
  }
 },
 "nbformat": 4,
 "nbformat_minor": 2
}
